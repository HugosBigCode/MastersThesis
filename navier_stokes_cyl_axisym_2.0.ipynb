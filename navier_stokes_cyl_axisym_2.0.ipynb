{
 "cells": [
  {
   "cell_type": "markdown",
   "metadata": {},
   "source": [
    "List of things that need to be implemented:\n",
    "- axisymmetric variational formula and L2 error.\n",
    "- $u_{\\theta}=0 $ and $\\frac{\\partial}{\\partial \\theta}$=0\n",
    "- boundary conditions defined well\n",
    "- Maybe we need a boundary condition on the pressure at r=0/r=1. Would this be dirichlet ?"
   ]
  },
  {
   "cell_type": "markdown",
   "metadata": {},
   "source": [
    "Variational form for each boundary :\n",
    "\n",
    "We have on $\\partial \\Omega $:\n",
    "\n",
    "$\\int_{\\partial\\Omega} \\mu (\\nabla u +(\\nabla u)^T)\\cdot n - pn \\, ds$ \n",
    "\n",
    "At $r=0$, $\\nabla u \\cdot n=0$ and $\\nabla p \\cdot n = 0$. So we have\n",
    "$\\int_{0}^1 \\mu (\\nabla u)^T\\cdot n - pn \\, dz$. \n",
    "\n",
    "At $r=1$, $u = 0$ and $\\nabla p \\cdot n = 0$. So we have 0, since $v=0$.\n",
    "\n",
    "At $z=0$, $\\nabla u \\cdot n=0$ and $ p= 4$. So we have\n",
    "$\\int_{0}^1 \\mu (\\nabla u)^T\\cdot n - pn \\,r\\, dr$. \n",
    "\n",
    "At $z=1$, $\\nabla u \\cdot n=0$ and $ p= 0$. So we have\n",
    "$\\int_{0}^1 \\mu (\\nabla u)^T\\cdot n \\,r\\, dr$. "
   ]
  },
  {
   "cell_type": "code",
   "execution_count": 351,
   "metadata": {
    "tags": []
   },
   "outputs": [],
   "source": [
    "from mpi4py import MPI\n",
    "from petsc4py import PETSc\n",
    "import numpy as np\n",
    "import pyvista\n",
    "\n",
    "from dolfinx.fem import Constant, Function, functionspace, assemble_scalar, dirichletbc, form, locate_dofs_geometrical, locate_dofs_topological\n",
    "from dolfinx.fem.petsc import assemble_matrix, assemble_vector, apply_lifting, create_vector, set_bc\n",
    "from dolfinx.io import VTXWriter, XDMFFile\n",
    "from dolfinx.mesh import create_unit_square, exterior_facet_indices, locate_entities_boundary, locate_entities, meshtags, Mesh\n",
    "from dolfinx.plot import vtk_mesh\n",
    "from basix.ufl import element\n",
    "from ufl import (FacetNormal, Identity, TestFunction, TrialFunction, as_matrix,as_vector, SpatialCoordinate, Measure,\n",
    "                 div, dot, ds, dx, inner, lhs, nabla_grad,grad, rhs, sym)\n",
    "\n",
    "\n",
    "mesh = create_unit_square(MPI.COMM_WORLD, 10, 10)\n",
    "t = 0\n",
    "T = 1\n",
    "num_steps = 5\n",
    "dt = T / num_steps"
   ]
  },
  {
   "cell_type": "code",
   "execution_count": 352,
   "metadata": {
    "tags": []
   },
   "outputs": [],
   "source": [
    "v_cg2 = element(\"Lagrange\", mesh.topology.cell_name(), 2, shape=(mesh.geometry.dim, ))\n",
    "s_cg1 = element(\"Lagrange\", mesh.topology.cell_name(), 1)\n",
    "V = functionspace(mesh, v_cg2)\n",
    "Q = functionspace(mesh, s_cg1)"
   ]
  },
  {
   "cell_type": "code",
   "execution_count": 353,
   "metadata": {},
   "outputs": [],
   "source": [
    "u = TrialFunction(V)\n",
    "v = TestFunction(V)\n",
    "p = TrialFunction(Q)\n",
    "q = TestFunction(Q)"
   ]
  },
  {
   "cell_type": "code",
   "execution_count": 354,
   "metadata": {},
   "outputs": [],
   "source": [
    "boundaries = [(1, lambda x: np.isclose(x[0], 0)),\n",
    "              (2, lambda x: np.isclose(x[0], 1)),\n",
    "              (3, lambda x: np.isclose(x[1], 0)),\n",
    "              (4, lambda x: np.isclose(x[1], 1))]\n",
    "\n",
    "facet_indices, facet_markers = [], []\n",
    "fdim = mesh.topology.dim - 1\n",
    "for (marker, locator) in boundaries:\n",
    "    facets = locate_entities(mesh, fdim, locator)\n",
    "    facet_indices.append(facets)\n",
    "    facet_markers.append(np.full_like(facets, marker))\n",
    "facet_indices = np.hstack(facet_indices).astype(np.int32)\n",
    "facet_markers = np.hstack(facet_markers).astype(np.int32)\n",
    "sorted_facets = np.argsort(facet_indices)\n",
    "facet_tag = meshtags(mesh, fdim, facet_indices[sorted_facets], facet_markers[sorted_facets])\n",
    "\n",
    "mesh.topology.create_connectivity(mesh.topology.dim-1, mesh.topology.dim)\n",
    "with XDMFFile(mesh.comm, \"facet_tags.xdmf\", \"w\") as xdmf:\n",
    "    xdmf.write_mesh(mesh)\n",
    "    xdmf.write_meshtags(facet_tag, mesh.geometry)\n",
    "\n",
    "#ds = Measure(\"exterior_facet\", domain=mesh, subdomain_data=facet_tag)\n",
    "\n",
    "wall_dofs_2 = locate_dofs_topological(V, fdim, facet_tag.find(1))\n",
    "u_noslip_2 = np.array([0,1], dtype=PETSc.ScalarType)\n",
    "bc_noslip_2 = dirichletbc(u_noslip_2, wall_dofs_2, V)\n",
    "\n",
    "wall_dofs = locate_dofs_topological(V, fdim, facet_tag.find(2))\n",
    "u_noslip = np.array([0,0], dtype=PETSc.ScalarType)\n",
    "bc_noslip = dirichletbc(u_noslip, wall_dofs, V)\n",
    "\n",
    "inflow_dofs = locate_dofs_topological(Q, fdim, facet_tag.find(3))\n",
    "outflow_dofs = locate_dofs_topological(Q, fdim, facet_tag.find(4))\n",
    "bc_inflow = dirichletbc(PETSc.ScalarType(4), inflow_dofs, Q)\n",
    "bc_outflow = dirichletbc(PETSc.ScalarType(0), outflow_dofs, Q)\n",
    "\n",
    "bcu = [bc_noslip]\n",
    "bcp = [bc_inflow, bc_outflow]"
   ]
  },
  {
   "cell_type": "code",
   "execution_count": 355,
   "metadata": {},
   "outputs": [
    {
     "name": "stdout",
     "output_type": "stream",
     "text": [
      "[  0   3   4   6  12  14  23  25  37  39  54  56  74  76  97  99 123 125\n",
      " 152 154 183 184 186 211 213 235 237 256 258 274 276 289 291 301 303 310\n",
      " 312 316 318 319]\n"
     ]
    }
   ],
   "source": [
    "print(facet_tag.indices)\n"
   ]
  },
  {
   "cell_type": "code",
   "execution_count": 356,
   "metadata": {},
   "outputs": [
    {
     "data": {
      "text/plain": [
       "'tdim = mesh.topology.dim\\nmesh.topology.create_connectivity(tdim - 1, tdim)\\nboundary_facets = exterior_facet_indices(mesh.topology)\\n\\ndef symmetric(x):\\n    return np.isclose(x[0], 0)\\ndef wall(x):\\n    return  np.isclose(x[0], 1)\\ndef inflow(x):\\n    return np.isclose(x[1], 0)\\ndef outflow(x):\\n    return np.isclose(x[1], 1)\\n\\nsymmetric_facets = locate_entities_boundary(mesh, tdim - 1, symmetric)\\nwall_facets = locate_entities_boundary(mesh, tdim - 1, wall)\\ninflow_facets = locate_entities_boundary(mesh, tdim - 1, inflow)\\noutflow_facets = locate_entities_boundary(mesh, tdim - 1, outflow)\\n\\nnum_facets = mesh.topology.index_map(tdim - 1).size_local\\nmarkers = np.zeros(num_facets, dtype=np.int32)\\nsymmetric_tag = 1\\nwall_tag = 2\\ninflow_tag = 3\\noutflow_tag = 4\\nmarkers[symmetric_facets] = symmetric_tag\\nmarkers[wall_facets] = wall_tag\\nmarkers[inflow_facets] = inflow_tag\\nmarkers[outflow_facets] = outflow_tag\\nfacet_marker = meshtags(mesh, tdim - 1, np.arange(num_facets, dtype=np.int32), markers)\\n\\n#symmetric_dofs = locate_dofs_topological(V, facet_marker.dim, facet_marker.find(symmetric_tag))\\n#x = SpatialCoordinate(mesh)\\n#bc_symmetric_p = dirichletbc(np.array([0,lambda x: 4*(1-x[1])], dtype = np.float32 ) , symmetric_dofs, Q)\\n\\n####################################################################################\\n\\n# topological BCs\\n\\nwall_dofs = locate_dofs_topological(V, facet_marker.dim, facet_marker.find(wall_tag))\\nu_noslip = np.array((0,) * mesh.geometry.dim, dtype=PETSc.ScalarType)\\nbc_noslip = dirichletbc(u_noslip, wall_dofs, V)\\n\\ninflow_dofs = locate_dofs_topological(Q, facet_marker.dim, facet_marker.find(inflow_tag))\\noutflow_dofs = locate_dofs_topological(Q, facet_marker.dim, facet_marker.find(outflow_tag))\\nbc_inflow = dirichletbc(PETSc.ScalarType(4), inflow_dofs, Q)\\nbc_outflow = dirichletbc(PETSc.ScalarType(0), outflow_dofs, Q)\\n\\n\\n####################################################################################\\n\\n# Geometric BCs\\n\\n#wall_dofs = locate_dofs_geometrical(V, wall)\\n#u_noslip = np.array((0,) * mesh.geometry.dim, dtype=PETSc.ScalarType)\\n#bc_noslip = dirichletbc(u_noslip, wall_dofs, V)\\n\\n#inflow_dofs = locate_dofs_geometrical(Q, inflow)\\n#bc_inflow = dirichletbc(PETSc.ScalarType(4), inflow_dofs, Q)\\n\\n#outflow_dofs = locate_dofs_geometrical(Q, outflow)\\n#bc_outflow = dirichletbc(PETSc.ScalarType(0), outflow_dofs, Q)\\n\\nbcu = [bc_noslip]\\nbcp = [bc_inflow, bc_outflow]'"
      ]
     },
     "execution_count": 356,
     "metadata": {},
     "output_type": "execute_result"
    }
   ],
   "source": [
    "'''tdim = mesh.topology.dim\n",
    "mesh.topology.create_connectivity(tdim - 1, tdim)\n",
    "boundary_facets = exterior_facet_indices(mesh.topology)\n",
    "\n",
    "def symmetric(x):\n",
    "    return np.isclose(x[0], 0)\n",
    "def wall(x):\n",
    "    return  np.isclose(x[0], 1)\n",
    "def inflow(x):\n",
    "    return np.isclose(x[1], 0)\n",
    "def outflow(x):\n",
    "    return np.isclose(x[1], 1)\n",
    "\n",
    "symmetric_facets = locate_entities_boundary(mesh, tdim - 1, symmetric)\n",
    "wall_facets = locate_entities_boundary(mesh, tdim - 1, wall)\n",
    "inflow_facets = locate_entities_boundary(mesh, tdim - 1, inflow)\n",
    "outflow_facets = locate_entities_boundary(mesh, tdim - 1, outflow)\n",
    "\n",
    "num_facets = mesh.topology.index_map(tdim - 1).size_local\n",
    "markers = np.zeros(num_facets, dtype=np.int32)\n",
    "symmetric_tag = 1\n",
    "wall_tag = 2\n",
    "inflow_tag = 3\n",
    "outflow_tag = 4\n",
    "markers[symmetric_facets] = symmetric_tag\n",
    "markers[wall_facets] = wall_tag\n",
    "markers[inflow_facets] = inflow_tag\n",
    "markers[outflow_facets] = outflow_tag\n",
    "facet_marker = meshtags(mesh, tdim - 1, np.arange(num_facets, dtype=np.int32), markers)\n",
    "\n",
    "#symmetric_dofs = locate_dofs_topological(V, facet_marker.dim, facet_marker.find(symmetric_tag))\n",
    "#x = SpatialCoordinate(mesh)\n",
    "#bc_symmetric_p = dirichletbc(np.array([0,lambda x: 4*(1-x[1])], dtype = np.float32 ) , symmetric_dofs, Q)\n",
    "\n",
    "####################################################################################\n",
    "\n",
    "# topological BCs\n",
    "\n",
    "wall_dofs = locate_dofs_topological(V, facet_marker.dim, facet_marker.find(wall_tag))\n",
    "u_noslip = np.array((0,) * mesh.geometry.dim, dtype=PETSc.ScalarType)\n",
    "bc_noslip = dirichletbc(u_noslip, wall_dofs, V)\n",
    "\n",
    "inflow_dofs = locate_dofs_topological(Q, facet_marker.dim, facet_marker.find(inflow_tag))\n",
    "outflow_dofs = locate_dofs_topological(Q, facet_marker.dim, facet_marker.find(outflow_tag))\n",
    "bc_inflow = dirichletbc(PETSc.ScalarType(4), inflow_dofs, Q)\n",
    "bc_outflow = dirichletbc(PETSc.ScalarType(0), outflow_dofs, Q)\n",
    "\n",
    "\n",
    "####################################################################################\n",
    "\n",
    "# Geometric BCs\n",
    "\n",
    "#wall_dofs = locate_dofs_geometrical(V, wall)\n",
    "#u_noslip = np.array((0,) * mesh.geometry.dim, dtype=PETSc.ScalarType)\n",
    "#bc_noslip = dirichletbc(u_noslip, wall_dofs, V)\n",
    "\n",
    "#inflow_dofs = locate_dofs_geometrical(Q, inflow)\n",
    "#bc_inflow = dirichletbc(PETSc.ScalarType(4), inflow_dofs, Q)\n",
    "\n",
    "#outflow_dofs = locate_dofs_geometrical(Q, outflow)\n",
    "#bc_outflow = dirichletbc(PETSc.ScalarType(0), outflow_dofs, Q)\n",
    "\n",
    "bcu = [bc_noslip]\n",
    "bcp = [bc_inflow, bc_outflow]'''"
   ]
  },
  {
   "cell_type": "code",
   "execution_count": 357,
   "metadata": {},
   "outputs": [],
   "source": [
    "u_n = Function(V)\n",
    "u_n.name = \"u_n\"\n",
    "U = 0.5 * (u_n + u)\n",
    "n = FacetNormal(mesh)\n",
    "f = Constant(mesh, PETSc.ScalarType((0, 0)))\n",
    "k = Constant(mesh, PETSc.ScalarType(dt))\n",
    "mu = Constant(mesh, PETSc.ScalarType(1))\n",
    "rho = Constant(mesh, PETSc.ScalarType(1))"
   ]
  },
  {
   "cell_type": "code",
   "execution_count": 358,
   "metadata": {},
   "outputs": [],
   "source": [
    "# Define strain-rate tensor\n",
    "\n",
    "def epsilon(u):\n",
    "    return sym(nabla_grad(u))\n",
    "\n",
    "# Define stress tensor\n",
    "\n",
    "def sigma(u, p):\n",
    "    return 2 * mu * epsilon(u) - p * Identity(len(u))\n",
    "\n",
    "# Define the variational problem for the first step\n",
    "#ds = Measure(\"ds\", domain=mesh, subdomain_data=facet_marker)\n",
    "x = SpatialCoordinate(mesh)\n",
    "def div_cyl(u):\n",
    "    return u[0]+x[0]*(u[0].dx(0)+u[1].dx(1))\n",
    "def der_dir(u):\n",
    "    return as_vector([u[0]*u[0].dx(0) + u[1]*u[0].dx(1) , \n",
    "                      u[0]*u[1].dx(0) + u[1]*u[1].dx(1)])\n",
    "\n",
    "p_n = Function(Q)\n",
    "p_n.name = \"p_n\"\n",
    "F1 = rho * dot((u - u_n) / k, v) *x[0]* dx\n",
    "F1 +=  rho * dot(dot(u_n, nabla_grad(u_n)), v) *x[0]* dx\n",
    "F1 += inner(sigma(U, p_n), epsilon(v)) *x[0]* dx\n",
    "\n",
    "F1 += dot(p_n * n, v) *x[0]* ds - dot(mu * nabla_grad(U) * n, v) *x[0]* ds\n",
    "\n",
    "#F1 += dot(p_n * n, v) *x[0]* ds(1) - dot(mu * nabla_grad(U) * n, v) *x[0]* ds(1)\n",
    "#F1 += dot(p_n * n, v) *x[0]* ds(2) - dot(mu * nabla_grad(U) * n, v) *x[0]* ds(2)\n",
    "#F1 += dot(p_n * n, v) *x[0]* ds(3) - dot(mu * nabla_grad(U) * n, v) *x[0]* ds(3)\n",
    "#F1 += dot(p_n * n, v) *x[0]* ds(4) - dot(mu * nabla_grad(U) * n, v) *x[0]* ds(4)\n",
    "\n",
    "\n",
    "F1 -= dot(f, v) *x[0]* dx\n",
    "a1 = form(lhs(F1))\n",
    "L1 = form(rhs(F1))"
   ]
  },
  {
   "cell_type": "code",
   "execution_count": 359,
   "metadata": {},
   "outputs": [],
   "source": [
    "A1 = assemble_matrix(a1, bcs=bcu)\n",
    "A1.assemble()\n",
    "b1 = create_vector(L1)"
   ]
  },
  {
   "cell_type": "code",
   "execution_count": 360,
   "metadata": {},
   "outputs": [],
   "source": [
    "# Define variational problem for step 2\n",
    "u_ = Function(V)\n",
    "a2 = form(dot(nabla_grad(p), nabla_grad(q)) *x[0]* dx)\n",
    "L2 = form(dot(nabla_grad(p_n), nabla_grad(q)) *x[0]* dx - (rho / k) * div_cyl(u_) *q* dx)\n",
    "A2 = assemble_matrix(a2, bcs=bcp)\n",
    "A2.assemble()\n",
    "b2 = create_vector(L2)\n",
    "\n",
    "# Define variational problem for step 3\n",
    "p_ = Function(Q)\n",
    "a3 = form(rho * dot(u, v) *x[0]* dx)\n",
    "L3 = form(rho * dot(u_, v) *x[0]* dx - k * dot(nabla_grad(p_ - p_n), v) *x[0]* dx)\n",
    "A3 = assemble_matrix(a3)\n",
    "A3.assemble()\n",
    "b3 = create_vector(L3)"
   ]
  },
  {
   "cell_type": "code",
   "execution_count": 361,
   "metadata": {},
   "outputs": [],
   "source": [
    "# Solver for step 1\n",
    "solver1 = PETSc.KSP().create(mesh.comm)\n",
    "solver1.setOperators(A1)\n",
    "solver1.setType(PETSc.KSP.Type.BCGS)\n",
    "pc1 = solver1.getPC()\n",
    "pc1.setType(PETSc.PC.Type.HYPRE)\n",
    "pc1.setHYPREType(\"boomeramg\")\n",
    "\n",
    "# Solver for step 2\n",
    "solver2 = PETSc.KSP().create(mesh.comm)\n",
    "solver2.setOperators(A2)\n",
    "solver2.setType(PETSc.KSP.Type.BCGS)\n",
    "pc2 = solver2.getPC()\n",
    "pc2.setType(PETSc.PC.Type.HYPRE)\n",
    "pc2.setHYPREType(\"boomeramg\")\n",
    "\n",
    "# Solver for step 3\n",
    "solver3 = PETSc.KSP().create(mesh.comm)\n",
    "solver3.setOperators(A3)\n",
    "solver3.setType(PETSc.KSP.Type.CG)\n",
    "pc3 = solver3.getPC()\n",
    "pc3.setType(PETSc.PC.Type.SOR)"
   ]
  },
  {
   "cell_type": "code",
   "execution_count": 362,
   "metadata": {},
   "outputs": [],
   "source": [
    "from pathlib import Path\n",
    "\n",
    "folder = Path(\"results\")\n",
    "folder.mkdir(exist_ok=True, parents=True)\n",
    "vtx_u = VTXWriter(mesh.comm, folder / \"poiseuille_u.bp\", u_n, engine=\"BP4\")\n",
    "vtx_p = VTXWriter(mesh.comm, folder / \"poiseuille_p.bp\", p_n, engine=\"BP4\")\n",
    "vtx_u.write(t)\n",
    "vtx_p.write(t)"
   ]
  },
  {
   "cell_type": "code",
   "execution_count": 363,
   "metadata": {},
   "outputs": [],
   "source": [
    "def u_exact(x):\n",
    "    values = np.zeros((2, x.shape[1]), dtype=PETSc.ScalarType)\n",
    "    values[1] = 1-x[0]**2\n",
    "    return values\n",
    "\n",
    "\n",
    "u_ex = Function(V)\n",
    "u_ex.interpolate(u_exact)\n",
    "\n",
    "L2_error = form(dot(u_ - u_ex, u_ - u_ex) *x[0]* dx)"
   ]
  },
  {
   "cell_type": "code",
   "execution_count": 364,
   "metadata": {
    "tags": []
   },
   "outputs": [
    {
     "name": "stdout",
     "output_type": "stream",
     "text": [
      "Time 0.20, L2-error 2.94e-01, Max error 8.00e-01\n",
      "Time 1.00, L2-error 2.24e-01, Max error 1.54e+00\n"
     ]
    },
    {
     "data": {
      "text/plain": [
       "<petsc4py.PETSc.KSP at 0x7f41eb99c860>"
      ]
     },
     "execution_count": 364,
     "metadata": {},
     "output_type": "execute_result"
    }
   ],
   "source": [
    "for i in range(num_steps):\n",
    "    # Update current time step\n",
    "    t += dt\n",
    "\n",
    "    # Step 1: Tentative veolcity step\n",
    "    with b1.localForm() as loc_1:\n",
    "        loc_1.set(0)\n",
    "    assemble_vector(b1, L1)\n",
    "    apply_lifting(b1, [a1], [bcu])\n",
    "    b1.ghostUpdate(addv=PETSc.InsertMode.ADD_VALUES, mode=PETSc.ScatterMode.REVERSE)\n",
    "    set_bc(b1, bcu)\n",
    "    solver1.solve(b1, u_.x.petsc_vec)\n",
    "    u_.x.scatter_forward()\n",
    "\n",
    "    # Step 2: Pressure corrrection step\n",
    "    with b2.localForm() as loc_2:\n",
    "        loc_2.set(0)\n",
    "    assemble_vector(b2, L2)\n",
    "    apply_lifting(b2, [a2], [bcp])\n",
    "    b2.ghostUpdate(addv=PETSc.InsertMode.ADD_VALUES, mode=PETSc.ScatterMode.REVERSE)\n",
    "    set_bc(b2, bcp)\n",
    "    solver2.solve(b2, p_.x.petsc_vec)\n",
    "    p_.x.scatter_forward()\n",
    "\n",
    "    # Step 3: Velocity correction step\n",
    "    with b3.localForm() as loc_3:\n",
    "        loc_3.set(0)\n",
    "    assemble_vector(b3, L3)\n",
    "    b3.ghostUpdate(addv=PETSc.InsertMode.ADD_VALUES, mode=PETSc.ScatterMode.REVERSE)\n",
    "    solver3.solve(b3, u_.x.petsc_vec)\n",
    "    u_.x.scatter_forward()\n",
    "    # Update variable with solution form this time step\n",
    "    u_n.x.array[:] = u_.x.array[:]\n",
    "    p_n.x.array[:] = p_.x.array[:]\n",
    "\n",
    "    # Write solutions to file\n",
    "    vtx_u.write(t)\n",
    "    vtx_p.write(t)\n",
    "\n",
    "    # Compute error at current time-step\n",
    "    error_L2 = np.sqrt(mesh.comm.allreduce(assemble_scalar(L2_error), op=MPI.SUM))\n",
    "    error_max = mesh.comm.allreduce(np.max(u_.x.petsc_vec.array - u_ex.x.petsc_vec.array), op=MPI.MAX)\n",
    "    # Print error only every 20th step and at the last step\n",
    "    if (i % 20 == 0) or (i == num_steps - 1):\n",
    "        print(f\"Time {t:.2f}, L2-error {error_L2:.2e}, Max error {error_max:.2e}\")\n",
    "# Close xmdf file\n",
    "vtx_u.close()\n",
    "vtx_p.close()\n",
    "b1.destroy()\n",
    "b2.destroy()\n",
    "b3.destroy()\n",
    "solver1.destroy()\n",
    "solver2.destroy()\n",
    "solver3.destroy()"
   ]
  },
  {
   "cell_type": "code",
   "execution_count": 365,
   "metadata": {},
   "outputs": [
    {
     "data": {
      "application/vnd.jupyter.widget-view+json": {
       "model_id": "4d09bcde22704c1eb3c2850c1b341550",
       "version_major": 2,
       "version_minor": 0
      },
      "text/plain": [
       "Widget(value='<iframe src=\"http://localhost:44053/index.html?ui=P_0x7f41f63f9f90_39&reconnect=auto\" class=\"pyv…"
      ]
     },
     "metadata": {},
     "output_type": "display_data"
    }
   ],
   "source": [
    "topology, cell_types, geometry = vtk_mesh(V)\n",
    "values = np.zeros((geometry.shape[0], 3), dtype=np.float64)\n",
    "values[:, :len(u_n)] = u_n.x.array.real.reshape((geometry.shape[0], len(u_n)))\n",
    "\n",
    "# Create a point cloud of glyphs\n",
    "function_grid = pyvista.UnstructuredGrid(topology, cell_types, geometry)\n",
    "function_grid[\"u\"] = values\n",
    "glyphs = function_grid.glyph(orient=\"u\", factor=0.2)\n",
    "\n",
    "# Create a pyvista-grid for the mesh\n",
    "mesh.topology.create_connectivity(mesh.topology.dim, mesh.topology.dim)\n",
    "grid = pyvista.UnstructuredGrid(*vtk_mesh(mesh, mesh.topology.dim))\n",
    "\n",
    "\n",
    "# Create plotter\n",
    "plotter = pyvista.Plotter()\n",
    "plotter.add_mesh(grid, style=\"wireframe\", color=\"k\")\n",
    "\n",
    "\n",
    "plotter.add_mesh(glyphs)\n",
    "plotter.view_xy()\n",
    "if not pyvista.OFF_SCREEN:\n",
    "    plotter.show()\n",
    "else:\n",
    "    fig_as_array = plotter.screenshot(\"glyphs.png\")"
   ]
  },
  {
   "cell_type": "code",
   "execution_count": 366,
   "metadata": {},
   "outputs": [],
   "source": [
    "def plot_mesh(mesh: Mesh, facet_tag = None):\n",
    "    \n",
    "    plotter = pyvista.Plotter()\n",
    "    \n",
    "    V_linear = functionspace(mesh, (\"Lagrange\", 1))\n",
    "    linear_grid = pyvista.UnstructuredGrid(*vtk_mesh(V_linear))\n",
    "    edges = linear_grid.extract_feature_edges()\n",
    "    fm = np.zeros(linear_grid.extract_feature_edges().n_cells, dtype=int)\n",
    "    print(linear_grid.extract_feature_edges().n_cells)\n",
    "    for index in range(len(facet_tag.values)):\n",
    "        fm[facet_tag.indices[index]] = facet_tag.values[index]\n",
    "    print(fm)\n",
    "    edges['facet_marker'] = fm\n",
    "    plotter.add_mesh(linear_grid, show_edges=True)\n",
    "    plotter.add_mesh(edges, scalars='facet_marker', line_width=5, cmap='viridis')\n",
    "\n",
    "    # We plot the coordinate axis and align it with the xy-plane\n",
    "    plotter.show_axes()\n",
    "    plotter.view_xy()\n",
    "    if not pyvista.OFF_SCREEN:\n",
    "        plotter.show()"
   ]
  },
  {
   "cell_type": "code",
   "execution_count": 367,
   "metadata": {},
   "outputs": [
    {
     "name": "stdout",
     "output_type": "stream",
     "text": [
      "320\n",
      "[3 0 0 3 2 0 2 0 0 0 0 0 3 0 2 0 0 0 0 0 0 0 0 3 0 2 0 0 0 0 0 0 0 0 0 0 0\n",
      " 3 0 2 0 0 0 0 0 0 0 0 0 0 0 0 0 0 3 0 2 0 0 0 0 0 0 0 0 0 0 0 0 0 0 0 0 0\n",
      " 3 0 2 0 0 0 0 0 0 0 0 0 0 0 0 0 0 0 0 0 0 0 0 3 0 2 0 0 0 0 0 0 0 0 0 0 0\n",
      " 0 0 0 0 0 0 0 0 0 0 0 0 3 0 2 0 0 0 0 0 0 0 0 0 0 0 0 0 0 0 0 0 0 0 0 0 0\n",
      " 0 0 0 0 3 0 2 0 0 0 0 0 0 0 0 0 0 0 0 0 0 0 0 0 0 0 0 0 0 0 0 0 0 0 0 1 4\n",
      " 0 1 0 0 0 0 0 0 0 0 0 0 0 0 0 0 0 0 0 0 0 0 0 0 0 0 4 0 1 0 0 0 0 0 0 0 0\n",
      " 0 0 0 0 0 0 0 0 0 0 0 0 0 4 0 1 0 0 0 0 0 0 0 0 0 0 0 0 0 0 0 0 0 0 4 0 1\n",
      " 0 0 0 0 0 0 0 0 0 0 0 0 0 0 0 4 0 1 0 0 0 0 0 0 0 0 0 0 0 0 4 0 1 0 0 0 0\n",
      " 0 0 0 0 0 4 0 1 0 0 0 0 0 0 4 0 1 0 0 0 4 0 1 4]\n"
     ]
    },
    {
     "data": {
      "application/vnd.jupyter.widget-view+json": {
       "model_id": "2508e3c650814c5f84c98bf8b74b7bea",
       "version_major": 2,
       "version_minor": 0
      },
      "text/plain": [
       "Widget(value='<iframe src=\"http://localhost:44053/index.html?ui=P_0x7f41f63f9d10_40&reconnect=auto\" class=\"pyv…"
      ]
     },
     "metadata": {},
     "output_type": "display_data"
    }
   ],
   "source": [
    "plot_mesh(mesh, facet_tag)\n"
   ]
  }
 ],
 "metadata": {
  "jupytext": {
   "formats": "ipynb,py:light"
  },
  "kernelspec": {
   "display_name": "fenicsx_2",
   "language": "python",
   "name": "python3"
  },
  "language_info": {
   "codemirror_mode": {
    "name": "ipython",
    "version": 3
   },
   "file_extension": ".py",
   "mimetype": "text/x-python",
   "name": "python",
   "nbconvert_exporter": "python",
   "pygments_lexer": "ipython3",
   "version": "3.13.1"
  }
 },
 "nbformat": 4,
 "nbformat_minor": 4
}
