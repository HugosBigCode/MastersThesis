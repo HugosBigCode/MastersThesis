{
 "cells": [
  {
   "cell_type": "code",
   "execution_count": 384,
   "metadata": {},
   "outputs": [],
   "source": [
    "from dolfinx import default_scalar_type\n",
    "from dolfinx import fem\n",
    "from dolfinx.fem.petsc import LinearProblem\n",
    "from dolfinx.io import XDMFFile\n",
    "from dolfinx.mesh import locate_entities, create_unit_square, meshtags\n",
    "from dolfinx.plot import vtk_mesh\n",
    "\n",
    "\n",
    "from mpi4py import MPI\n",
    "\n",
    "import ufl\n",
    "\n",
    "import numpy as np\n",
    "import pyvista\n",
    "\n",
    "mesh = create_unit_square(MPI.COMM_WORLD, 50, 50)"
   ]
  },
  {
   "cell_type": "code",
   "execution_count": 385,
   "metadata": {},
   "outputs": [],
   "source": [
    "u_ex = lambda x: 1+x[1]**3-2*x[0]-x[0]**2\n",
    "x = ufl.SpatialCoordinate(mesh)\n",
    "\n",
    "f = 4+2/x[0]-6*x[1]\n",
    "n = ufl.FacetNormal(mesh)\n",
    "g = -ufl.dot(n, ufl.grad(u_ex(x)))\n",
    "\n",
    "V = fem.functionspace(mesh, (\"Lagrange\", 1))\n",
    "u, v = ufl.TrialFunction(V), ufl.TestFunction(V)\n",
    "F = ufl.dot(ufl.grad(u), ufl.grad(v)) *x[0]* ufl.dx - f*v*x[0] * ufl.dx"
   ]
  },
  {
   "cell_type": "code",
   "execution_count": 386,
   "metadata": {},
   "outputs": [],
   "source": [
    "boundaries = [(1, lambda x: np.isclose(x[0], 0)),\n",
    "              (2, lambda x: np.isclose(x[0], 1)),\n",
    "              (3, lambda x: np.isclose(x[1], 0)),\n",
    "              (4, lambda x: np.isclose(x[1], 1))]"
   ]
  },
  {
   "cell_type": "code",
   "execution_count": 387,
   "metadata": {},
   "outputs": [],
   "source": [
    "facet_indices, facet_markers = [], []\n",
    "fdim = mesh.topology.dim - 1\n",
    "for (marker, locator) in boundaries:\n",
    "    facets = locate_entities(mesh, fdim, locator)\n",
    "    facet_indices.append(facets)\n",
    "    facet_markers.append(np.full_like(facets, marker))\n",
    "facet_indices = np.hstack(facet_indices).astype(np.int32)\n",
    "facet_markers = np.hstack(facet_markers).astype(np.int32)\n",
    "sorted_facets = np.argsort(facet_indices)\n",
    "facet_tag = meshtags(mesh, fdim, facet_indices[sorted_facets], facet_markers[sorted_facets])"
   ]
  },
  {
   "cell_type": "code",
   "execution_count": 388,
   "metadata": {},
   "outputs": [],
   "source": [
    "mesh.topology.create_connectivity(mesh.topology.dim-1, mesh.topology.dim)\n",
    "with XDMFFile(mesh.comm, \"facet_tags.xdmf\", \"w\") as xdmf:\n",
    "    xdmf.write_mesh(mesh)\n",
    "    xdmf.write_meshtags(facet_tag, mesh.geometry)"
   ]
  },
  {
   "cell_type": "code",
   "execution_count": 389,
   "metadata": {},
   "outputs": [],
   "source": [
    "ds = ufl.Measure(\"ds\", domain=mesh, subdomain_data=facet_tag)"
   ]
  },
  {
   "cell_type": "code",
   "execution_count": 390,
   "metadata": {},
   "outputs": [],
   "source": [
    "class BoundaryCondition():\n",
    "    def __init__(self, type, marker, values):\n",
    "        self._type = type\n",
    "        if type == \"Dirichlet\":\n",
    "            u_D = fem.Function(V)\n",
    "            u_D.interpolate(values)\n",
    "            facets = facet_tag.find(marker)\n",
    "            dofs = fem.locate_dofs_topological(V, fdim, facets)\n",
    "            self._bc = fem.dirichletbc(u_D, dofs)\n",
    "        elif type == \"Neumann\":\n",
    "            self._bc = ufl.inner(values, v)*x[0]* ds(marker)\n",
    "        else:\n",
    "            raise TypeError(\"Unknown boundary condition: {0:s}\".format(type))\n",
    "    @property\n",
    "    def bc(self):\n",
    "        return self._bc\n",
    "\n",
    "    @property\n",
    "    def type(self):\n",
    "        return self._type\n",
    "\n",
    "# Define the Dirichlet condition\n",
    "boundary_conditions = [BoundaryCondition(\"Neumann\", 1, g),\n",
    "                       BoundaryCondition(\"Dirichlet\", 2, u_ex),\n",
    "                       BoundaryCondition(\"Neumann\", 3, g),\n",
    "                       BoundaryCondition(\"Neumann\", 4, g)]\n"
   ]
  },
  {
   "cell_type": "code",
   "execution_count": 391,
   "metadata": {},
   "outputs": [],
   "source": [
    "bcs = []\n",
    "for condition in boundary_conditions:\n",
    "    if condition.type == \"Dirichlet\":\n",
    "        bcs.append(condition.bc)\n",
    "    else:\n",
    "        F += condition.bc"
   ]
  },
  {
   "cell_type": "code",
   "execution_count": 392,
   "metadata": {},
   "outputs": [
    {
     "data": {
      "application/vnd.jupyter.widget-view+json": {
       "model_id": "2391b1a62dbf4d41928fbbff3906b1e9",
       "version_major": 2,
       "version_minor": 0
      },
      "text/plain": [
       "Widget(value='<iframe src=\"http://localhost:45345/index.html?ui=P_0x7fd7474879d0_36&reconnect=auto\" class=\"pyv…"
      ]
     },
     "metadata": {},
     "output_type": "display_data"
    }
   ],
   "source": [
    "# Solve linear variational problem\n",
    "a = ufl.lhs(F)\n",
    "L = ufl.rhs(F)\n",
    "problem = LinearProblem(a, L, bcs=bcs, petsc_options={\"ksp_type\": \"preonly\", \"pc_type\": \"lu\"})\n",
    "uh = problem.solve()\n",
    "\n",
    "# Visualize solution\n",
    "pyvista_cells, cell_types, geometry = vtk_mesh(V)\n",
    "grid = pyvista.UnstructuredGrid(pyvista_cells, cell_types, geometry)\n",
    "grid.point_data[\"u\"] = uh.x.array\n",
    "grid.set_active_scalars(\"u\")\n",
    "\n",
    "plotter = pyvista.Plotter()\n",
    "plotter.add_text(\"uh\", position=\"upper_edge\", font_size=14, color=\"black\")\n",
    "plotter.add_mesh(grid, show_edges=True)\n",
    "plotter.view_xy()\n",
    "if not pyvista.OFF_SCREEN:\n",
    "    plotter.show()\n",
    "else:\n",
    "    figure = plotter.screenshot(\"neumann_dirichlet.png\")"
   ]
  },
  {
   "cell_type": "code",
   "execution_count": 393,
   "metadata": {
    "lines_to_next_cell": 0
   },
   "outputs": [
    {
     "name": "stdout",
     "output_type": "stream",
     "text": [
      "Error_L2 : 1.58e-04\n",
      "Error_max : 9.96e-04\n"
     ]
    }
   ],
   "source": [
    "# Compute L2 error and error at nodes\n",
    "V_ex = fem.functionspace(mesh, (\"Lagrange\", 2))\n",
    "u_exact = fem.Function(V_ex)\n",
    "u_exact.interpolate(u_ex)\n",
    "error_L2 = np.sqrt(mesh.comm.allreduce(fem.assemble_scalar(fem.form((uh - u_exact)**2 * ufl.dx)), op=MPI.SUM))\n",
    "\n",
    "u_vertex_values = uh.x.array\n",
    "uex_1 = fem.Function(V)\n",
    "uex_1.interpolate(u_ex)\n",
    "u_ex_vertex_values = uex_1.x.array\n",
    "error_max = np.max(np.abs(u_vertex_values - u_ex_vertex_values))\n",
    "error_max = mesh.comm.allreduce(error_max, op=MPI.MAX)\n",
    "print(f\"Error_L2 : {error_L2:.2e}\")\n",
    "print(f\"Error_max : {error_max:.2e}\")"
   ]
  }
 ],
 "metadata": {
  "jupytext": {
   "formats": "ipynb,py:light"
  },
  "kernelspec": {
   "display_name": "fenicsx_2",
   "language": "python",
   "name": "python3"
  },
  "language_info": {
   "codemirror_mode": {
    "name": "ipython",
    "version": 3
   },
   "file_extension": ".py",
   "mimetype": "text/x-python",
   "name": "python",
   "nbconvert_exporter": "python",
   "pygments_lexer": "ipython3",
   "version": "3.13.1"
  }
 },
 "nbformat": 4,
 "nbformat_minor": 4
}
