{
 "cells": [
  {
   "cell_type": "markdown",
   "metadata": {},
   "source": [
    "Poisson Equation on a Unit Square with Dirichlet Boundary Conditions Solver"
   ]
  },
  {
   "cell_type": "markdown",
   "metadata": {},
   "source": [
    "Polar Poisson equation: $u_{rr}+\\frac{1}{r}u_r+\\frac{1}{r^2}u_{\\theta\\theta} = -f$ "
   ]
  },
  {
   "cell_type": "code",
   "execution_count": 99,
   "metadata": {},
   "outputs": [
    {
     "name": "stdout",
     "output_type": "stream",
     "text": [
      "Info    : Meshing 1D...\n",
      "Info    : Meshing curve 1 (Ellipse)\n",
      "Info    : Done meshing 1D (Wall 0.000202526s, CPU 0.000228s)\n",
      "Info    : Meshing 2D...\n",
      "Info    : Meshing surface 1 (Plane, Frontal-Delaunay)\n",
      "Info    : Done meshing 2D (Wall 0.0244425s, CPU 0.024046s)\n",
      "Info    : 411 nodes 821 elements\n",
      "Info    : Meshing order 3 (curvilinear on)...\n",
      "Info    : [  0%] Meshing curve 1 order 3\n",
      "Info    : [ 60%] Meshing surface 1 order 3\n",
      "Info    : Surface mesh: worst distortion = 1 (0 elements in ]0, 0.2]); worst gamma = 0.836177\n",
      "Info    : Done meshing order 3 (Wall 0.00696079s, CPU 0.004613s)\n"
     ]
    }
   ],
   "source": [
    "import basix.ufl\n",
    "import ufl\n",
    "\n",
    "from mpi4py import MPI\n",
    "\n",
    "import matplotlib.pyplot as plt\n",
    "import numpy as np\n",
    "import pyvista\n",
    "\n",
    "\n",
    "from dolfinx import fem, mesh, plot, default_scalar_type\n",
    "from dolfinx.fem.petsc import LinearProblem\n",
    "import dolfinx\n",
    "\n",
    "import gmsh\n",
    "\n",
    "gmsh.initialize()\n",
    "gmsh.model.add('circular_disk')\n",
    "center = (0,0,0)\n",
    "R = 1\n",
    "disk = gmsh.model.occ.addDisk(*center, R, R)\n",
    "gmsh.model.occ.synchronize()\n",
    "gmsh.model.addPhysicalGroup(2, [disk], tag=2)\n",
    "boundary = gmsh.model.getBoundary([(2,disk)],recursive=False, oriented=False)\n",
    "gmsh.model.addPhysicalGroup(1, [disk], tag=12)\n",
    "gmsh.option.setNumber(\"Mesh.CharacteristicLengthMax\", 0.1)\n",
    "gmsh.model.mesh.generate(2)\n",
    "gmsh.model.mesh.setOrder(3)\n",
    "circular_mesh, cell_marker, facet_marker = dolfinx.io.gmshio.model_to_mesh(\n",
    "    gmsh.model, MPI.COMM_WORLD, 0, gdim=2)\n",
    "gmsh.finalize()   \n",
    "\n",
    "domain = circular_mesh\n",
    "\n",
    "#--------------------------------------------------------------------#\n",
    "\n",
    "# All problem inputs must either be a lambda function in x or a real number.\n",
    "\n",
    "# Input Source Term.\n",
    "source = 0\n",
    "\n",
    "# Define Dirchlet boundary condition on the disk\n",
    "u_omega = 2\n",
    "\n",
    "# Input an exact solution to provide error estimates or otherwise input None.\n",
    "exact_u = 2\n",
    "\n",
    "#--------------------------------------------------------------------#"
   ]
  },
  {
   "cell_type": "code",
   "execution_count": 100,
   "metadata": {},
   "outputs": [],
   "source": [
    "V = fem.functionspace(domain, (\"Lagrange\", 1))\n",
    "\n",
    "dofs_omega = fem.locate_dofs_geometrical(V, lambda x: np.isclose(x[0], 1))\n",
    "\n",
    "boundary_values = [u_omega]\n",
    "dofs = [dofs_omega]\n",
    "bcs = [ _ ]\n",
    "\n",
    "for i, boundary_value in enumerate(boundary_values):\n",
    "    if str(boundary_value).isnumeric():\n",
    "        boundary_value = default_scalar_type(boundary_value)\n",
    "        bcs[i] = fem.dirichletbc(boundary_value, dofs[i], V)\n",
    "    else:\n",
    "        boundary_function = fem.Function(V)\n",
    "        boundary_function.interpolate(boundary_value)\n",
    "        bcs[i] = fem.dirichletbc(boundary_function, dofs[i])\n",
    "\n",
    "    "
   ]
  },
  {
   "cell_type": "code",
   "execution_count": 101,
   "metadata": {},
   "outputs": [],
   "source": [
    "u = ufl.TrialFunction(V)\n",
    "v = ufl.TestFunction(V)\n",
    "\n",
    "if callable(source):\n",
    "    f = fem.Function(V)\n",
    "    f.interpolate(source)\n",
    "else:\n",
    "    f = fem.Constant(domain, default_scalar_type(0))\n",
    "x = ufl.SpatialCoordinate(domain)\n",
    "\n",
    "def grad_polar(g, x):\n",
    "    return ufl.as_vector([g.dx(0), 1/x[0]*g.dx(1)])\n",
    "\n",
    "a = ufl.dot(grad_polar(u, x), grad_polar(v, x)) *x[0]* ufl.dx\n",
    "L = f * v *x[0]* ufl.dx \n",
    "\n",
    "problem = fem.petsc.LinearProblem(a, L, bcs=bcs, petsc_options={\"ksp_type\": \"preonly\", \"pc_type\": \"lu\"})\n",
    "uh = problem.solve()"
   ]
  },
  {
   "cell_type": "code",
   "execution_count": 102,
   "metadata": {},
   "outputs": [
    {
     "name": "stdout",
     "output_type": "stream",
     "text": [
      "Error_L2 : 6.0157483231e-11\n",
      "Error_max : 5.2414517171e-11\n"
     ]
    }
   ],
   "source": [
    "if exact_u == None:\n",
    "    pass\n",
    "else: \n",
    "    if callable(exact_u):\n",
    "        V2 = fem.functionspace(domain, (\"Lagrange\", 2))\n",
    "        uex = fem.Function(V2)\n",
    "        uex.interpolate(exact_u)\n",
    "        uex_1 = fem.Function(V)\n",
    "        uex_1.interpolate(uex)\n",
    "        error_max = np.max(np.abs(uex_1.x.array-uh.x.array)) \n",
    "        error_max = MPI.COMM_WORLD.allreduce(error_max, op=MPI.MAX)\n",
    "    else:\n",
    "        uex = fem.Constant(domain, default_scalar_type(exact_u))\n",
    "        uex_1 = exact_u\n",
    "        error_max = np.max(np.abs([uex_1]*len(uh.x.array)-uh.x.array)) \n",
    "        error_max = MPI.COMM_WORLD.allreduce(error_max, op=MPI.MAX)\n",
    "        \n",
    "    L2_error = fem.form(ufl.inner(uh - uex, uh - uex) * ufl.dx)\n",
    "    error_local = fem.assemble_scalar(L2_error)\n",
    "    error_L2 = np.sqrt(domain.comm.allreduce(error_local, op=MPI.SUM))\n",
    "\n",
    "    # Only print the error on one process\n",
    "    if domain.comm.rank == 0:\n",
    "        print(f\"Error_L2 : {error_L2:.10e}\")\n",
    "        print(f\"Error_max : {error_max:.10e}\")"
   ]
  },
  {
   "cell_type": "code",
   "execution_count": 103,
   "metadata": {},
   "outputs": [
    {
     "data": {
      "application/vnd.jupyter.widget-view+json": {
       "model_id": "bea1601e03e840ea91ea885e59e135ff",
       "version_major": 2,
       "version_minor": 0
      },
      "text/plain": [
       "EmbeddableWidget(value='<iframe srcdoc=\"<!DOCTYPE html>\\n<html>\\n  <head>\\n    <meta http-equiv=&quot;Content-…"
      ]
     },
     "metadata": {},
     "output_type": "display_data"
    }
   ],
   "source": [
    "u_topology, u_cell_types, u_geometry = plot.vtk_mesh(V)\n",
    "u_grid = pyvista.UnstructuredGrid(u_topology, u_cell_types, u_geometry)\n",
    "u_grid.point_data[\"u\"] = uh.x.array.real\n",
    "u_grid.set_active_scalars(\"u\")\n",
    "u_plotter = pyvista.Plotter()\n",
    "u_plotter.add_mesh(u_grid, show_edges=True)\n",
    "u_plotter.view_xy()\n",
    "if not pyvista.OFF_SCREEN:\n",
    "    u_plotter.show()"
   ]
  },
  {
   "cell_type": "code",
   "execution_count": 104,
   "metadata": {},
   "outputs": [
    {
     "data": {
      "application/vnd.jupyter.widget-view+json": {
       "model_id": "ba02c948de154309aa92c456a585bdb4",
       "version_major": 2,
       "version_minor": 0
      },
      "text/plain": [
       "EmbeddableWidget(value='<iframe srcdoc=\"<!DOCTYPE html>\\n<html>\\n  <head>\\n    <meta http-equiv=&quot;Content-…"
      ]
     },
     "metadata": {},
     "output_type": "display_data"
    }
   ],
   "source": [
    "warped = u_grid.warp_by_scalar()\n",
    "plotter2 = pyvista.Plotter()\n",
    "plotter2.add_mesh(warped, show_edges=True, show_scalar_bar=True)\n",
    "if not pyvista.OFF_SCREEN:\n",
    "    plotter2.show()"
   ]
  }
 ],
 "metadata": {
  "kernelspec": {
   "display_name": "fenicsx_2",
   "language": "python",
   "name": "python3"
  },
  "language_info": {
   "codemirror_mode": {
    "name": "ipython",
    "version": 3
   },
   "file_extension": ".py",
   "mimetype": "text/x-python",
   "name": "python",
   "nbconvert_exporter": "python",
   "pygments_lexer": "ipython3",
   "version": "3.13.1"
  }
 },
 "nbformat": 4,
 "nbformat_minor": 2
}
