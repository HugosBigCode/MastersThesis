{
 "cells": [
  {
   "cell_type": "markdown",
   "metadata": {},
   "source": [
    "Poisson Equation on a Unit Square with Dirichlet Boundary Conditions Solver"
   ]
  },
  {
   "cell_type": "code",
   "execution_count": 5,
   "metadata": {},
   "outputs": [],
   "source": [
    "#--------------------------------------------------------------------#\n",
    "\n",
    "# All problem inputs must either be a lambda function in x or a real number.\n",
    "\n",
    "# Input Source Term.\n",
    "source = lambda x : -6*x[0] -6*x[1]\n",
    "\n",
    "# Define Dirchlet boundary conditions on the square (includes left, right, bottom and top).\n",
    "u_L = lambda x: x[1]**3\n",
    "u_R = lambda x: x[1]**3 + 1\n",
    "\n",
    "u_B = lambda x: x[0]**3\n",
    "u_T = lambda x: x[0]**3 + 1\n",
    "\n",
    "# Input an exact solution to provide error estimates (optional).\n",
    "\n",
    "\n",
    "#--------------------------------------------------------------------#"
   ]
  },
  {
   "cell_type": "code",
   "execution_count": 6,
   "metadata": {},
   "outputs": [],
   "source": [
    "from mpi4py import MPI\n",
    "\n",
    "import matplotlib.pyplot as plt\n",
    "import numpy as np\n",
    "import pyvista\n",
    "\n",
    "import basix.ufl\n",
    "from dolfinx import fem, mesh, plot, default_scalar_type\n",
    "import ufl\n",
    "\n",
    "\n",
    "domain = mesh.create_unit_square(MPI.COMM_WORLD, 64, 64, mesh.CellType.quadrilateral) # Need a circular domain\n",
    "V = fem.functionspace(domain, (\"Lagrange\", 1))"
   ]
  },
  {
   "cell_type": "code",
   "execution_count": 7,
   "metadata": {},
   "outputs": [],
   "source": [
    "dofs_L = fem.locate_dofs_geometrical(V, lambda x: np.isclose(x[0], 0))\n",
    "dofs_R = fem.locate_dofs_geometrical(V, lambda x: np.isclose(x[0], 1))\n",
    "dofs_B = fem.locate_dofs_geometrical(V, lambda x: np.isclose(x[1], 0))\n",
    "dofs_T = fem.locate_dofs_geometrical(V, lambda x: np.isclose(x[1], 1))\n",
    "\n",
    "\n",
    "boundary_values = [u_L, u_R, u_B, u_T]\n",
    "dofs = [dofs_L, dofs_R, dofs_B, dofs_T]\n",
    "bcs = [ _,_,_,_ ]\n",
    "\n",
    "for i, boundary_value in enumerate(boundary_values):\n",
    "    if str(boundary_value).isnumeric():\n",
    "        boundary_value = default_scalar_type(boundary_value)\n",
    "        bcs[i] = fem.dirichletbc(boundary_value, dofs[i], V)\n",
    "    else:\n",
    "        boundary_function = fem.Function(V)\n",
    "        boundary_function.interpolate(boundary_value)\n",
    "        bcs[i] = fem.dirichletbc(boundary_function, dofs[i])\n"
   ]
  },
  {
   "cell_type": "code",
   "execution_count": 8,
   "metadata": {},
   "outputs": [
    {
     "ename": "AttributeError",
     "evalue": "module 'dolfinx.fem' has no attribute 'petsc'",
     "output_type": "error",
     "traceback": [
      "\u001b[0;31m---------------------------------------------------------------------------\u001b[0m",
      "\u001b[0;31mAttributeError\u001b[0m                            Traceback (most recent call last)",
      "Cell \u001b[0;32mIn[8], line 11\u001b[0m\n\u001b[1;32m      8\u001b[0m a \u001b[38;5;241m=\u001b[39m ufl\u001b[38;5;241m.\u001b[39mdot(ufl\u001b[38;5;241m.\u001b[39mgrad(u), ufl\u001b[38;5;241m.\u001b[39mgrad(v)) \u001b[38;5;241m*\u001b[39m ufl\u001b[38;5;241m.\u001b[39mdx\n\u001b[1;32m      9\u001b[0m L \u001b[38;5;241m=\u001b[39m f \u001b[38;5;241m*\u001b[39m v \u001b[38;5;241m*\u001b[39m ufl\u001b[38;5;241m.\u001b[39mdx \n\u001b[0;32m---> 11\u001b[0m problem \u001b[38;5;241m=\u001b[39m fem\u001b[38;5;241m.\u001b[39mpetsc\u001b[38;5;241m.\u001b[39mLinearProblem(a, L, bcs\u001b[38;5;241m=\u001b[39mbcs, petsc_options\u001b[38;5;241m=\u001b[39m{\u001b[38;5;124m\"\u001b[39m\u001b[38;5;124mksp_type\u001b[39m\u001b[38;5;124m\"\u001b[39m: \u001b[38;5;124m\"\u001b[39m\u001b[38;5;124mpreonly\u001b[39m\u001b[38;5;124m\"\u001b[39m, \u001b[38;5;124m\"\u001b[39m\u001b[38;5;124mpc_type\u001b[39m\u001b[38;5;124m\"\u001b[39m: \u001b[38;5;124m\"\u001b[39m\u001b[38;5;124mlu\u001b[39m\u001b[38;5;124m\"\u001b[39m})\n\u001b[1;32m     12\u001b[0m uh \u001b[38;5;241m=\u001b[39m problem\u001b[38;5;241m.\u001b[39msolve()\n",
      "\u001b[0;31mAttributeError\u001b[0m: module 'dolfinx.fem' has no attribute 'petsc'"
     ]
    }
   ],
   "source": [
    "u = ufl.TrialFunction(V)\n",
    "v = ufl.TestFunction(V)\n",
    "if callable(source):\n",
    "    f = fem.Function(V)\n",
    "    f.interpolate(source)\n",
    "else:\n",
    "    f = fem.Constant(domain, default_scalar_type(0))\n",
    "a = ufl.dot(ufl.grad(u), ufl.grad(v)) * ufl.dx\n",
    "L = f * v * ufl.dx \n",
    "\n",
    "problem = fem.petsc.LinearProblem(a, L, bcs=bcs, petsc_options={\"ksp_type\": \"preonly\", \"pc_type\": \"lu\"})\n",
    "uh = problem.solve()"
   ]
  },
  {
   "cell_type": "code",
   "execution_count": 112,
   "metadata": {},
   "outputs": [
    {
     "name": "stdout",
     "output_type": "stream",
     "text": [
      "Error_L2 : 1.3917895658e-04\n",
      "Error_max : 2.0872192863e-14\n"
     ]
    }
   ],
   "source": [
    "if callable(exact_u):\n",
    "    V2 = fem.functionspace(domain, (\"Lagrange\", 2))\n",
    "    uex = fem.Function(V2)\n",
    "    uex.interpolate(lambda x: x[0]**3+x[1]**3)\n",
    "else:\n",
    "    uex = fem.Constant(domain, default_scalar_type(exact_u))\n",
    "\n",
    "L2_error = fem.form(ufl.inner(uh - uex, uh - uex) * ufl.dx)\n",
    "error_local = fem.assemble_scalar(L2_error)\n",
    "error_L2 = numpy.sqrt(domain.comm.allreduce(error_local, op=MPI.SUM))\n",
    "\n",
    "uex_1 = fem.Function(V)\n",
    "uex_1.interpolate(uex)\n",
    "error_max = numpy.max(numpy.abs(uex_1.x.array-uh.x.array)) \n",
    "error_max = MPI.COMM_WORLD.allreduce(error_max, op=MPI.MAX)\n",
    "\n",
    "# Only print the error on one process\n",
    "if domain.comm.rank == 0:\n",
    "    print(f\"Error_L2 : {error_L2:.10e}\")\n",
    "    print(f\"Error_max : {error_max:.10e}\")"
   ]
  },
  {
   "cell_type": "code",
   "execution_count": 113,
   "metadata": {},
   "outputs": [
    {
     "data": {
      "application/vnd.jupyter.widget-view+json": {
       "model_id": "6a6c9865cf604626b158008e78d79879",
       "version_major": 2,
       "version_minor": 0
      },
      "text/plain": [
       "EmbeddableWidget(value='<iframe srcdoc=\"<!DOCTYPE html>\\n<html>\\n  <head>\\n    <meta http-equiv=&quot;Content-…"
      ]
     },
     "metadata": {},
     "output_type": "display_data"
    }
   ],
   "source": [
    "pyvista.set_jupyter_backend('html')\n",
    "\n",
    "domain.topology.create_connectivity(tdim, tdim)\n",
    "topology, cell_types, geometry = plot.vtk_mesh(domain, tdim)\n",
    "grid = pyvista.UnstructuredGrid(topology, cell_types, geometry)\n",
    "plotter = pyvista.Plotter()\n",
    "plotter.add_mesh(grid, show_edges=True)\n",
    "plotter.view_xy()\n",
    "if not pyvista.OFF_SCREEN:\n",
    "    plotter.show()\n",
    "else:\n",
    "    figure = plotter.screenshot(\"fundamentals_mesh.png\")"
   ]
  },
  {
   "cell_type": "code",
   "execution_count": 114,
   "metadata": {},
   "outputs": [
    {
     "data": {
      "application/vnd.jupyter.widget-view+json": {
       "model_id": "8264fd65e95443ebbaf9fd7213c5b4be",
       "version_major": 2,
       "version_minor": 0
      },
      "text/plain": [
       "EmbeddableWidget(value='<iframe srcdoc=\"<!DOCTYPE html>\\n<html>\\n  <head>\\n    <meta http-equiv=&quot;Content-…"
      ]
     },
     "metadata": {},
     "output_type": "display_data"
    }
   ],
   "source": [
    "u_topology, u_cell_types, u_geometry = plot.vtk_mesh(V)\n",
    "u_grid = pyvista.UnstructuredGrid(u_topology, u_cell_types, u_geometry)\n",
    "u_grid.point_data[\"u\"] = uh.x.array.real\n",
    "u_grid.set_active_scalars(\"u\")\n",
    "u_plotter = pyvista.Plotter()\n",
    "u_plotter.add_mesh(u_grid, show_edges=False)\n",
    "u_plotter.view_xy()\n",
    "if not pyvista.OFF_SCREEN:\n",
    "    u_plotter.show()"
   ]
  },
  {
   "cell_type": "code",
   "execution_count": 115,
   "metadata": {},
   "outputs": [
    {
     "data": {
      "application/vnd.jupyter.widget-view+json": {
       "model_id": "14f2dbdf7ce7496287b5abaa02105bf5",
       "version_major": 2,
       "version_minor": 0
      },
      "text/plain": [
       "EmbeddableWidget(value='<iframe srcdoc=\"<!DOCTYPE html>\\n<html>\\n  <head>\\n    <meta http-equiv=&quot;Content-…"
      ]
     },
     "metadata": {},
     "output_type": "display_data"
    }
   ],
   "source": [
    "warped = u_grid.warp_by_scalar()\n",
    "plotter2 = pyvista.Plotter()\n",
    "plotter2.add_mesh(warped, show_edges=True, show_scalar_bar=True)\n",
    "if not pyvista.OFF_SCREEN:\n",
    "    plotter2.show()"
   ]
  }
 ],
 "metadata": {
  "kernelspec": {
   "display_name": "fenicsx_2",
   "language": "python",
   "name": "python3"
  },
  "language_info": {
   "codemirror_mode": {
    "name": "ipython",
    "version": 3
   },
   "file_extension": ".py",
   "mimetype": "text/x-python",
   "name": "python",
   "nbconvert_exporter": "python",
   "pygments_lexer": "ipython3",
   "version": "3.13.1"
  }
 },
 "nbformat": 4,
 "nbformat_minor": 2
}
