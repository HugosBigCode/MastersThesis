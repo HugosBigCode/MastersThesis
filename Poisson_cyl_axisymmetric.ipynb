{
 "cells": [
  {
   "cell_type": "markdown",
   "metadata": {},
   "source": [
    "Poisson Equation on a Unit Square with Dirichlet Boundary Conditions Solver"
   ]
  },
  {
   "cell_type": "markdown",
   "metadata": {},
   "source": [
    "Polar Poisson equation: $u_{rr}+\\frac{1}{r}u_r+u_{zz} = -f$ "
   ]
  },
  {
   "cell_type": "code",
   "execution_count": 31,
   "metadata": {},
   "outputs": [],
   "source": [
    "import basix.ufl\n",
    "import ufl\n",
    "\n",
    "from mpi4py import MPI\n",
    "\n",
    "import matplotlib.pyplot as plt\n",
    "import numpy as np\n",
    "import pyvista\n",
    "\n",
    "\n",
    "from dolfinx import fem, mesh, plot, default_scalar_type\n",
    "from dolfinx.fem.petsc import LinearProblem\n",
    "import dolfinx\n",
    "\n",
    "mesh = mesh.create_unit_square(MPI.COMM_WORLD, 30, 30)\n",
    "V = fem.functionspace(mesh, (\"Lagrange\", 1))\n",
    "u = ufl.TrialFunction(V)\n",
    "v = ufl.TestFunction(V)\n"
   ]
  },
  {
   "cell_type": "code",
   "execution_count": 32,
   "metadata": {},
   "outputs": [],
   "source": [
    "u_exact = lambda x: np.exp(-x[0]**2)\n",
    "u_ex = fem.Function(V)\n",
    "u_ex.interpolate(u_exact)\n",
    "#u_ex = fem.Constant(mesh, default_scalar_type(1))\n",
    "def boundary_inner(x):\n",
    "    return np.isclose(x[0], 0)\n",
    "\n",
    "def boundary_outer(x):\n",
    "    return np.isclose(x[0], 1)\n",
    "\n",
    "tdim = mesh.topology.dim\n",
    "fdim = tdim - 1\n",
    "mesh.topology.create_connectivity(fdim, tdim)\n",
    "facets_inner = dolfinx.mesh.locate_entities_boundary(mesh, fdim, boundary_inner)\n",
    "facets_outer = dolfinx.mesh.locate_entities_boundary(mesh, fdim, boundary_outer)\n",
    "dofs_inner = fem.locate_dofs_topological(V, fdim, facets_inner)\n",
    "dofs_outer = fem.locate_dofs_topological(V, fdim, facets_outer)\n",
    "\n",
    "bc_inner = fem.dirichletbc(u_ex, dofs_inner, )\n",
    "bc_outer = fem.dirichletbc(u_ex, dofs_outer,)\n",
    "bcs =[bc_inner,bc_outer]"
   ]
  },
  {
   "cell_type": "code",
   "execution_count": 33,
   "metadata": {},
   "outputs": [],
   "source": [
    "source = lambda x: -np.exp(-x[0]**2)*(-2+4*x[0]**2)+2*np.exp(-x[0]**2)\n",
    "#nuem = lambda x: 2*np.exp(1)*(1-x[1])*x[1]\n",
    "#g = fem.Function(V)\n",
    "#g.interpolate(nuem)\n",
    "g = fem.Constant(mesh, default_scalar_type(0))\n",
    "f = fem.Function(V)\n",
    "#f = fem.Constant(mesh, default_scalar_type(2))\n",
    "f.interpolate(source)\n",
    "x = ufl.SpatialCoordinate(mesh)\n",
    "a = ufl.dot(ufl.grad(u), ufl.grad(v))*x[0]* ufl.dx\n",
    "L = f * v *x[0]* ufl.dx - g * v * ufl.ds \n",
    "\n",
    "problem = LinearProblem(a, L, bcs=bcs, petsc_options={\"ksp_type\": \"preonly\", \"pc_type\": \"lu\"})\n",
    "uh = problem.solve()"
   ]
  },
  {
   "cell_type": "code",
   "execution_count": 34,
   "metadata": {},
   "outputs": [
    {
     "name": "stdout",
     "output_type": "stream",
     "text": [
      "Error_L2 : 2.3190316059e-04\n",
      "Error_max : 3.9090896899e-04\n"
     ]
    }
   ],
   "source": [
    "\n",
    "if u_exact == None:\n",
    "    pass\n",
    "else: \n",
    "    if callable(u_exact):\n",
    "        V2 = fem.functionspace(mesh, (\"Lagrange\", 2))\n",
    "        uex = fem.Function(V2)\n",
    "        uex.interpolate(u_exact)\n",
    "        uex_1 = fem.Function(V)\n",
    "        uex_1.interpolate(uex)\n",
    "        error_max = np.max(np.abs(uex_1.x.array-uh.x.array)) \n",
    "        error_max = MPI.COMM_WORLD.allreduce(error_max, op=MPI.MAX)\n",
    "    else:\n",
    "        uex = fem.Constant(mesh, default_scalar_type(u_exact))\n",
    "        uex_1 = u_exact\n",
    "        error_max = np.max(np.abs([uex_1]*len(uh.x.array)-uh.x.array)) \n",
    "        error_max = MPI.COMM_WORLD.allreduce(error_max, op=MPI.MAX)   \n",
    "    L2_error = fem.form(ufl.inner(uh - uex, uh - uex) * ufl.dx)\n",
    "    error_local = fem.assemble_scalar(L2_error)\n",
    "    error_L2 = np.sqrt(mesh.comm.allreduce(error_local, op=MPI.SUM))\n",
    "\n",
    "    # Only print the error on one process\n",
    "    if mesh.comm.rank == 0:\n",
    "        print(f\"Error_L2 : {error_L2:.10e}\")\n",
    "        print(f\"Error_max : {error_max:.10e}\")"
   ]
  },
  {
   "cell_type": "code",
   "execution_count": 35,
   "metadata": {},
   "outputs": [
    {
     "data": {
      "application/vnd.jupyter.widget-view+json": {
       "model_id": "a2e646a463f44d58bbbdf3a955428089",
       "version_major": 2,
       "version_minor": 0
      },
      "text/plain": [
       "Widget(value='<iframe src=\"http://localhost:35235/index.html?ui=P_0x7f8b5f077b10_10&reconnect=auto\" class=\"pyv…"
      ]
     },
     "metadata": {},
     "output_type": "display_data"
    }
   ],
   "source": [
    "u_topology, u_cell_types, u_geometry = plot.vtk_mesh(V)\n",
    "u_grid = pyvista.UnstructuredGrid(u_topology, u_cell_types, u_geometry)\n",
    "u_grid.point_data[\"u\"] = uh.x.array.real\n",
    "u_grid.set_active_scalars(\"u\")\n",
    "u_plotter = pyvista.Plotter()\n",
    "u_plotter.add_mesh(u_grid, show_edges=True)\n",
    "u_plotter.view_xy()\n",
    "if not pyvista.OFF_SCREEN:\n",
    "    u_plotter.show()"
   ]
  },
  {
   "cell_type": "code",
   "execution_count": 36,
   "metadata": {},
   "outputs": [
    {
     "data": {
      "application/vnd.jupyter.widget-view+json": {
       "model_id": "2519b6a67b7f4031a4996c031c390d18",
       "version_major": 2,
       "version_minor": 0
      },
      "text/plain": [
       "Widget(value='<iframe src=\"http://localhost:35235/index.html?ui=P_0x7f8b5f0779d0_11&reconnect=auto\" class=\"pyv…"
      ]
     },
     "metadata": {},
     "output_type": "display_data"
    }
   ],
   "source": [
    "warped = u_grid.warp_by_scalar()\n",
    "plotter2 = pyvista.Plotter()\n",
    "plotter2.add_mesh(warped, show_edges=True, show_scalar_bar=True)\n",
    "if not pyvista.OFF_SCREEN:\n",
    "    plotter2.show()"
   ]
  }
 ],
 "metadata": {
  "kernelspec": {
   "display_name": "fenicsx_2",
   "language": "python",
   "name": "python3"
  },
  "language_info": {
   "codemirror_mode": {
    "name": "ipython",
    "version": 3
   },
   "file_extension": ".py",
   "mimetype": "text/x-python",
   "name": "python",
   "nbconvert_exporter": "python",
   "pygments_lexer": "ipython3",
   "version": "3.13.1"
  }
 },
 "nbformat": 4,
 "nbformat_minor": 2
}
